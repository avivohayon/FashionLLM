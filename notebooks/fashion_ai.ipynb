{
 "cells": [
  {
   "cell_type": "code",
   "execution_count": 3,
   "metadata": {},
   "outputs": [
    {
     "name": "stdout",
     "output_type": "stream",
     "text": [
      "Requirement already satisfied: python-dotenv in c:\\users\\aviv7\\anaconda3\\envs\\myenv2\\lib\\site-packages (0.21.0)\n"
     ]
    }
   ],
   "source": [
    "!pip install python-dotenv"
   ]
  },
  {
   "cell_type": "code",
   "execution_count": 2,
   "metadata": {},
   "outputs": [],
   "source": [
    "import os\n",
    "import openai\n",
    "from dotenv import load_dotenv, find_dotenv\n",
    "from langchain.chains import LLMChain\n",
    "from langchain.llms import OpenAI\n",
    "from langchain.chat_models import ChatOpenAI\n",
    "from langchain.chains.conversation.memory import ConversationBufferMemory\n",
    "from langchain.prompts import PromptTemplate\n"
   ]
  },
  {
   "cell_type": "code",
   "execution_count": 4,
   "metadata": {},
   "outputs": [],
   "source": [
    "# Set up the turbo Llm\n",
    "turbo_llm = OpenAI(\n",
    "    temperature=0,\n",
    "    model_name='gpt-3.5-turbo'\n",
    ")"
   ]
  },
  {
   "cell_type": "code",
   "execution_count": 6,
   "metadata": {},
   "outputs": [],
   "source": [
    "load_dotenv(find_dotenv())\n",
    "openai.api_key = os.environ['OPENAI_API_KEY']"
   ]
  },
  {
   "attachments": {},
   "cell_type": "markdown",
   "metadata": {},
   "source": [
    "first chain"
   ]
  },
  {
   "cell_type": "code",
   "execution_count": 76,
   "metadata": {},
   "outputs": [],
   "source": [
    "first_template = \"\"\"\n",
    "You are a fashion designer consultant for new costumer,\n",
    "You are trying to suggest clothes details based on the style,he design and the color of the famous person: {celebrity_name} clothing for your costumer \n",
    "Please provide a detailed breakdown or their unique clothing style and fashion preferences.\n",
    "The breakdown description will include various categories such as hats, glasses, jewelry, tops, pants, shoes, and colors\n",
    "Each category will be presented in the format: Category: [List of items].\n",
    "% START OF EXAMPLE BREAKDOWN TO MIMIC\n",
    "{breakdown_example}\n",
    "% END OF EXAMPLE BREAKDOWN TO MIMIC\n",
    "{format_instructions}\n",
    "YOUR BREAKDOWN:\n",
    "\"\"\"\n",
    "breakdown_example = \"\"\"\n",
    "Based on John Lennon's iconic style, here are some suggestions for your costumer:\n",
    "Name: John Lennon\n",
    "Gender: Men\n",
    "Hats: Newsboy caps, Berets, Beanies, Wide-brimmed hats\n",
    "Glasses: Round, wire-rimmed glasses, Sunglasses with circular frames, Colored lenses\n",
    "Jewelry: Peace sign necklaces, Beaded bracelets, Leather wristbands, Long pendant necklaces\n",
    "Tops: Button-up shirts with bold prints or patterns, Turtlenecks, Graphic tees, Denim jackets\n",
    "Pants: Flared jeans, Corduroy pants, Wide-leg trousers, High-waisted pants\n",
    "Shoes: Chelsea boots, Loafers, Sneakers with platform soles, Sandals with straps\n",
    "Colors: Black, White, Blue, Earth, Bold colors such as red, yellow, and purple\n",
    "\n",
    "Overall, John Lennon's style was characterized by a mix of bohemian and mod influences,\n",
    "with a focus on comfort and individuality.\n",
    "Encourage your costumer to experiment with bold prints,\n",
    "bright colors, and unique accessories to capture Lennon's free-spirited vibe.\n",
    "\"\"\""
   ]
  },
  {
   "cell_type": "code",
   "execution_count": 67,
   "metadata": {},
   "outputs": [],
   "source": [
    "from langchain.output_parsers import ResponseSchema, StructuredOutputParser"
   ]
  },
  {
   "cell_type": "code",
   "execution_count": 82,
   "metadata": {},
   "outputs": [],
   "source": [
    "name_data_scheme = ResponseSchema(name='name',\n",
    "                                 description=\"This is the name of the celebrity\"\n",
    ")\n",
    "gender_data_scheme = ResponseSchema(name='gender',\n",
    "                                    description=\"This is the gender of the celebrity, can be men, women or both\")\n",
    "hat_data_scheme = ResponseSchema(name='hat',\n",
    "                                 description=\"This is the data for the hat\"\n",
    ")\n",
    "glasses_data_scheme = ResponseSchema(name='glasses',\n",
    "                                 description=\"This is the data for the glasses\"\n",
    ")\n",
    "jewelry_data_scheme = ResponseSchema(name='jewelry',\n",
    "                                 description=\"This is the data for the jewelry\"\n",
    ")\n",
    "tops_data_scheme = ResponseSchema(name='tops',\n",
    "                                 description=\"This is the data for the tops\"\n",
    ")\n",
    "\n",
    "pants_data_scheme = ResponseSchema(name='pants',\n",
    "                                 description=\"This is the data for the pants\"\n",
    ")\n",
    "\n",
    "shoes_data_scheme = ResponseSchema(name='shoes',\n",
    "                                 description=\"This is the data for the shoes\"\n",
    ")\n",
    "colors_data_scheme = ResponseSchema(name='colors',\n",
    "                                 description=\"This is the data for the colors\"\n",
    ")\n",
    "\n",
    "conclusion_data_scheme = ResponseSchema(name='conclusion',\n",
    "                                 description=\"This is the data for the overall fashion breakdown in the end\"\n",
    ")\n",
    "response_schemas = [\n",
    "    name_data_scheme,gender_data_scheme, hat_data_scheme, glasses_data_scheme,\n",
    "    jewelry_data_scheme, tops_data_scheme, pants_data_scheme,\n",
    "    shoes_data_scheme, colors_data_scheme, conclusion_data_scheme\n",
    "                    ]"
   ]
  },
  {
   "cell_type": "code",
   "execution_count": 83,
   "metadata": {},
   "outputs": [],
   "source": [
    "output_parser = StructuredOutputParser.from_response_schemas(response_schemas)"
   ]
  },
  {
   "cell_type": "code",
   "execution_count": 84,
   "metadata": {},
   "outputs": [
    {
     "name": "stdout",
     "output_type": "stream",
     "text": [
      "The output should be a markdown code snippet formatted in the following schema, including the leading and trailing \"```json\" and \"```\":\n",
      "\n",
      "```json\n",
      "{\n",
      "\t\"name\": string  // This is the name of the celebrity\n",
      "\t\"gender\": string  // This is the gender of the celebrity, can be men, women or both\n",
      "\t\"hat\": string  // This is the data for the hat\n",
      "\t\"glasses\": string  // This is the data for the glasses\n",
      "\t\"jewelry\": string  // This is the data for the jewelry\n",
      "\t\"tops\": string  // This is the data for the tops\n",
      "\t\"pants\": string  // This is the data for the pants\n",
      "\t\"shoes\": string  // This is the data for the shoes\n",
      "\t\"colors\": string  // This is the data for the colors\n",
      "\t\"conclusion\": string  // This is the data for the overall fashion breakdown in the end\n",
      "}\n",
      "```\n"
     ]
    }
   ],
   "source": [
    "format_instructions = output_parser.get_format_instructions()\n",
    "print(format_instructions)"
   ]
  },
  {
   "cell_type": "code",
   "execution_count": 85,
   "metadata": {},
   "outputs": [
    {
     "name": "stdout",
     "output_type": "stream",
     "text": [
      "\n",
      "You are a fashion designer consultant for new costumer,\n",
      "You are trying to suggest clothes details based on the style,he design and the color of the famous person: rupaul clothing for your costumer \n",
      "Please provide a detailed breakdown or their unique clothing style and fashion preferences.\n",
      "The breakdown description will include various categories such as hats, glasses, jewelry, tops, pants, shoes, and colors\n",
      "Each category will be presented in the format: Category: [List of items].\n",
      "% START OF EXAMPLE BREAKDOWN TO MIMIC\n",
      "\n",
      "Based on John Lennon's iconic style, here are some suggestions for your costumer:\n",
      "Name: John Lennon\n",
      "Gender: Men\n",
      "Hats: Newsboy caps, Berets, Beanies, Wide-brimmed hats\n",
      "Glasses: Round, wire-rimmed glasses, Sunglasses with circular frames, Colored lenses\n",
      "Jewelry: Peace sign necklaces, Beaded bracelets, Leather wristbands, Long pendant necklaces\n",
      "Tops: Button-up shirts with bold prints or patterns, Turtlenecks, Graphic tees, Denim jackets\n",
      "Pants: Flared jeans, Corduroy pants, Wide-leg trousers, High-waisted pants\n",
      "Shoes: Chelsea boots, Loafers, Sneakers with platform soles, Sandals with straps\n",
      "Colors: Black, White, Blue, Earth, Bold colors such as red, yellow, and purple\n",
      "\n",
      "Overall, John Lennon's style was characterized by a mix of bohemian and mod influences,\n",
      "with a focus on comfort and individuality.\n",
      "Encourage your costumer to experiment with bold prints,\n",
      "bright colors, and unique accessories to capture Lennon's free-spirited vibe.\n",
      "\n",
      "% END OF EXAMPLE BREAKDOWN TO MIMIC\n",
      "The output should be a markdown code snippet formatted in the following schema, including the leading and trailing \"```json\" and \"```\":\n",
      "\n",
      "```json\n",
      "{\n",
      "\t\"name\": string  // This is the name of the celebrity\n",
      "\t\"gender\": string  // This is the gender of the celebrity, can be men, women or both\n",
      "\t\"hat\": string  // This is the data for the hat\n",
      "\t\"glasses\": string  // This is the data for the glasses\n",
      "\t\"jewelry\": string  // This is the data for the jewelry\n",
      "\t\"tops\": string  // This is the data for the tops\n",
      "\t\"pants\": string  // This is the data for the pants\n",
      "\t\"shoes\": string  // This is the data for the shoes\n",
      "\t\"colors\": string  // This is the data for the colors\n",
      "\t\"conclusion\": string  // This is the data for the overall fashion breakdown in the end\n",
      "}\n",
      "```\n",
      "YOUR BREAKDOWN:\n",
      "\n"
     ]
    }
   ],
   "source": [
    "example_prompt = PromptTemplate(\n",
    "    template=first_template,\n",
    "    input_variables=[\"celebrity_name\"],\n",
    "    partial_variables={\"format_instructions\": format_instructions,\"breakdown_example\":breakdown_example},\n",
    "    output_parser=output_parser\n",
    "    \n",
    ")\n",
    "final_prompt = example_prompt.format(celebrity_name=\"rupaul\")\n",
    "# messages = example_prompt\n",
    "# style_prompt = example_prompt.format(celebrity_name = \"rupaul\", breakdown_example=breakdown_example  )\n",
    "# print(final_prompt)\n",
    "print(final_prompt)"
   ]
  },
  {
   "attachments": {},
   "cell_type": "markdown",
   "metadata": {},
   "source": [
    "building the chain"
   ]
  },
  {
   "cell_type": "code",
   "execution_count": 86,
   "metadata": {},
   "outputs": [],
   "source": [
    "fashion_chain = LLMChain(llm=turbo_llm,\n",
    "                         prompt=example_prompt)"
   ]
  },
  {
   "cell_type": "code",
   "execution_count": 91,
   "metadata": {},
   "outputs": [],
   "source": [
    "# use predict_and_parse to make sure the output gets\n",
    "response = fashion_chain.predict_and_parse(celebrity_name = 'Bianca Del Rio')"
   ]
  },
  {
   "cell_type": "code",
   "execution_count": 92,
   "metadata": {},
   "outputs": [
    {
     "data": {
      "text/plain": [
       "{'name': 'Bianca Del Rio',\n",
       " 'gender': 'Women',\n",
       " 'hat': 'Fedora hats, Wide-brimmed hats, Baseball caps',\n",
       " 'glasses': 'Cat-eye sunglasses, Oversized sunglasses, Round sunglasses',\n",
       " 'jewelry': 'Statement earrings, Chunky necklaces, Cuff bracelets',\n",
       " 'tops': 'Crop tops, Graphic tees, Sequin blouses, Leather jackets',\n",
       " 'pants': 'Skinny jeans, High-waisted pants, Wide-leg trousers, Jumpsuits',\n",
       " 'shoes': 'Stiletto heels, Platform boots, Sneakers, Sandals',\n",
       " 'colors': 'Black, Red, Gold, Silver, Bold colors such as purple and green',\n",
       " 'conclusion': \"Bianca Del Rio's style is all about making a statement. Encourage your costumer to embrace bold colors, sequins, and statement jewelry. Crop tops and high-waisted pants are a staple in her wardrobe, and don't be afraid to mix and match patterns and textures. Finish off the look with a pair of stiletto heels or platform boots.\"}"
      ]
     },
     "execution_count": 92,
     "metadata": {},
     "output_type": "execute_result"
    }
   ],
   "source": [
    "response"
   ]
  }
 ],
 "metadata": {
  "kernelspec": {
   "display_name": "base",
   "language": "python",
   "name": "python3"
  },
  "language_info": {
   "codemirror_mode": {
    "name": "ipython",
    "version": 3
   },
   "file_extension": ".py",
   "mimetype": "text/x-python",
   "name": "python",
   "nbconvert_exporter": "python",
   "pygments_lexer": "ipython3",
   "version": "3.9.0"
  },
  "orig_nbformat": 4
 },
 "nbformat": 4,
 "nbformat_minor": 2
}
