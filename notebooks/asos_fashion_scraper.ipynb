{
 "cells": [
  {
   "cell_type": "code",
   "execution_count": 1,
   "metadata": {},
   "outputs": [],
   "source": [
    "import pandas as pd\n",
    "import requests"
   ]
  },
  {
   "cell_type": "code",
   "execution_count": 2,
   "metadata": {},
   "outputs": [],
   "source": [
    "json_data = {'name': 'Ozzy Osbourne',\n",
    " 'gender': 'Men',\n",
    " 'hat': 'Wide-brimmed hats, Fedora hats, Top hats',\n",
    " 'glasses': 'Round sunglasses, Aviator sunglasses, Rectangular glasses',\n",
    " 'jewelry': 'Cross necklaces, Studded bracelets, Skull rings, Chain necklaces',\n",
    " 'tops': 'Graphic tees, Leather jackets, Denim vests, Button-up shirts with bold prints',\n",
    " 'pants': 'Black skinny jeans, Leather pants, Distressed denim, Cargo pants',\n",
    " 'shoes': 'Combat boots, High-top sneakers, Loafers, Cowboy boots',\n",
    " 'colors': 'Black, Dark shades of red, Purple, Silver, White',\n",
    " 'conclusion': \"Ozzy Osbourne's style is characterized by a mix of rock and roll and gothic influences.\"\n",
    "               \" Encourage your costumer to experiment with bold graphic tees, leather jackets, and black skinny jeans\"\n",
    "               \" to capture Ozzy's edgy vibe. Accessorize with studded bracelets, cross necklaces, \"\n",
    "               \"and skull rings. Opt for dark shades of red, purple, and silver to complement the black and white color scheme.\"\n",
    "             }"
   ]
  },
  {
   "attachments": {},
   "cell_type": "markdown",
   "metadata": {},
   "source": [
    "hat get request"
   ]
  },
  {
   "cell_type": "code",
   "execution_count": 13,
   "metadata": {},
   "outputs": [],
   "source": [
    "product_name = 'Fedora hats'\n",
    "gender = 1 ## Men is 1 , Women is 2\n",
    "cookies = {\n",
    "    'featuresId': '07adb4e3-0c27-4fff-840c-7c06a3bb1bdf',\n",
    "    '_gcl_au': '1.1.799408543.1687098031',\n",
    "    'bt_stdstatus': 'NOTSTUDENT',\n",
    "    '_cs_c': '0',\n",
    "    'stc-welcome-message': 'cappedPageCount=2&resolvedDeliveryCountry=IL',\n",
    "    'geocountry': 'IL',\n",
    "    'AMCVS_C0137F6A52DEAFCC0A490D4C%40AdobeOrg': '1',\n",
    "    'asos-perx': '3d1f53e3367749eb878b3654894ca360||bde5c75efc954fd2940c0623820f357f',\n",
    "    's_cc': 'true',\n",
    "    'browseCountry': 'IL',\n",
    "    'browseCurrency': 'ILS',\n",
    "    'browseLanguage': 'en-GB',\n",
    "    'browseSizeSchema': 'EU',\n",
    "    'storeCode': 'ROW',\n",
    "    'currency': '10046',\n",
    "    'asosAffiliate': 'affiliateId=10700',\n",
    "    '_gcl_aw': 'GCL.1687356185.CjwKCAjwv8qkBhAnEiwAkY-aht0lBZKE6x1xcNVhC65QHmtMYp0VtAlznDgz3anXlFkBNzqblDyNMxoCjJEQAvD_BwE',\n",
    "    '_gcl_dc': 'GCL.1687356185.CjwKCAjwv8qkBhAnEiwAkY-aht0lBZKE6x1xcNVhC65QHmtMYp0VtAlznDgz3anXlFkBNzqblDyNMxoCjJEQAvD_BwE',\n",
    "    'bt_gclid': 'CjwKCAjwv8qkBhAnEiwAkY-aht0lBZKE6x1xcNVhC65QHmtMYp0VtAlznDgz3anXlFkBNzqblDyNMxoCjJEQAvD_BwE',\n",
    "    'bt_affid': '10700',\n",
    "    'floor': '1000',\n",
    "    'asos': 'PreferredSite=&currencyid=10046&currencylabel=ILS&topcatid=1000&customerid=-1&customerguid=3d1f53e3367749eb878b3654894ca360',\n",
    "    'ak_bmsc': '77EA5DDBB71F87604420FDD026A3B5A3~000000000000000000000000000000~YAAQl/8SAiLVw9yIAQAA3F6P4hRqzw7vPn6skKB36tmCuroefMVoqnCtKyvvTc9txQ1lnpMM8s21mT+z7hcQ2doTdmnpak5sQVFHW2w55l52xc7eLW750kKpsoWq+h6CpjzmHOV9s+PKncyzfaFurfpqFCphZFVxoiT+wvRHdebmQv7+ldywCq6hjE9wtuQUeFvrYZku5Nep7M0lyCDgdKa/9GpsVE63SuFInRqw9evERLNwayTEYbI0DH9MvQz/BcvBIUEHwh4/A83e48F/e4Dz3A+U7EsWcj57VAgogVl4WZXT1JsDCunKosbxp70kcT9C3UeLRz8frbETtqclBeUZN63AGoq784wGOrpbzsDnOkcLkIgf+WAtsPg9FElOhzm9BgzE6rNNUqvOfsYuX4ImbLF5TXTjK03eDx0iFMqsLQ==',\n",
    "    'bm_sz': 'DB836EC0E2FD66F47FAF96B069D4C1A8~YAAQl/8SAiPVw9yIAQAA3F6P4hQzLCvKJdcJyd/Sn816fONLVkHV7U1Y7MAK1JQGgt6B5fRJnIzaCoOkv/YeKBRouaU7LwFWSLdJ1fqfgHYG/yg2lk8DOti/1sWPJFtNd35tcjYaxW97Pp19Sv2u9jDTs2RXizFq6RI6b+1sXpcaeiOo/L3l/jVd4viisi29tVyDwl7zTqoaXljH88KJjIaL/KhpYq9mRAI/SBuDg3UsKWDziVDoBwqc6nh+hR2ewJ4a5rPGfy0TXoA9AOho3yHhdBMOrrSVyH2lA1G+Xv21~3553091~3621175',\n",
    "    '_s_fpv': 'true',\n",
    "    '_cs_mk_aa': '0.8598014315457732_1687428231478',\n",
    "    'plp_columsCount': 'threeColumns',\n",
    "    'AMCV_C0137F6A52DEAFCC0A490D4C%40AdobeOrg': '-1303530583%7CMCMID%7C25193479769954055961606549063999944440%7CMCAID%7CNONE%7CMCOPTOUT-1687436111s%7CNONE%7CvVersion%7C3.3.0',\n",
    "    'siteChromeVersion': 'au=12&com=12&de=12&dk=12&es=12&fr=12&it=12&nl=12&pl=12&roe=12&row=12&ru=12&se=12&us=12',\n",
    "    'keyStoreDataversion': 'ornjx7v-36',\n",
    "    'asos-b-sdv629': 'ornjx7v-36',\n",
    "    'bm_mi': '948DDEA5318641FE55D9D95C0D497A92~YAAQvGndWIoOsd6IAQAAQNuZ4hTuvSAZHaImujW0wCGeFCUgqTW1VhdGIdqyoke6ESzod98XVTQyOK7nJr3iMRHD+PdqUVL/V1/ayCxjIOJgy/JbWU4bjWB/oOP4h0jNWqqc/3XtR02pUPIzzaT7gQwOPqOf17n/JZzShpvhzalLLLvESTuXvJwV9u1MqfA627pikq2f/j6KkqzxQ4p3uFe5Umn9xlu1i8CuVUqZ77DUulw8IUBEdVyVnDijFbByhXdyba81lykgvCpcOK/9ncB8aH8wyv/JGx2B3x18q3oTvbWVekR5RhlfxlRAU5DiOz9nkpPEV7uwOFpnHy4YYuVRkUVOz3sR~1',\n",
    "    'bm_sv': '2A2A0BDA80053127E6B687116A2B57F6~YAAQvGndWBoPsd6IAQAAau2Z4hQE0JZNkg2ukuHPPhiZuKwg6vGc/ZbD2DcWXixUVsVn8Yh27LZKX+T7uQcSYgdBpheuQ5vQxN+vU0bJuRrBnjjIhG92divTFg01A/FXkdGKySERV95PTH2lTVRxZEZvwX1EFXa6unpOk1PsVQB22LwDVMXxNbbhWH9PtX2whan0H/aWtmlC0O4n5sIHenkIlH9SSnIMG14nCvfHiL9RNuExJFYJewUrAXtfFQ==~1',\n",
    "    '_abck': 'D5E63C3455B523AD3A975BB29DE0BCF5~0~YAAQvGndWGMPsd6IAQAAV/OZ4grl8VJU2VjVNCT8b9viVwsRubON0qTP/FngxArrbUqWpdHfSqkRfoc2zhIrm11sHgICZR5lEYVmZykFBh5qQVeu+4K6pLM/GU7qe/zbXeVwCOT0bxXQFMDHBSPTWEkIaWHaZuY6NSedMPdrj7nHAzYeiIdNzXlgWcnoTBXTddNtq8fSU0iKAyGGCqsRVsOrzK3zSENxam4BPTSk/Pg9nGlUMf5OUP3FUG5mFwYX22lFxl3CjEm9uKU67P/A7SixWSIizOK7Rx+wNGNBb8U27zQOQKbHpCAui1Uy6mIudjipN2lg437HQAUwWXSukuCNwpN4qvR1dHzPeqNafJgnENjDw6TJPjRGEXn2GHWCYx+pqTdE60aI2sUQRj6idTZwMLkUkQ==~-1~-1~1687432487',\n",
    "    'OptanonConsent': 'isGpcEnabled=0&datestamp=Thu+Jun+22+2023+13%3A15%3A21+GMT%2B0300+(Israel+Daylight+Time)&version=202301.2.0&isIABGlobal=false&hosts=&landingPath=https%3A%2F%2Fwww.asos.com%2Fsearch%2F%3Fq%3Dshirt%26currentpricerange%3D30-1985&groups=C0001%3A1%2CC0003%3A1%2CC0004%3A1',\n",
    "    's_pers': '%20s_vnum%3D1688158800647%2526vn%253D9%7C1688158800647%3B%20gpv_p6%3D%2520%7C1687430713084%3B%20gpv_eVar230%3Dno%2520value%7C1687430713092%3B%20gpv_eVar234%3Dno%2520value%7C1687430713110%3B%20s_nr%3D1687429428613-Repeat%7C1718965428613%3B%20gpv_e47%3Dsearch%257Call%7C1687431228614%3B%20gpv_p10%3Dmobile%2520row%257Csearch%2520page%257Csuccessful%2520search%7C1687431228617%3B%20gpv_e231%3D607446b1-2178-4240-8046-9f35a217709c%7C1687431293571%3B%20eVar225%3D57%7C1687431293590%3B%20s_invisit%3Dtrue%7C1687431293591%3B%20visitCount%3D9%7C1687431293595%3B',\n",
    "    's_sq': '%5B%5BB%5D%5D',\n",
    "    '_cs_id': 'd5623ad9-8442-af5a-c0fb-db4e0e05bb5f.1687098031.9.1687429516.1687426724.1628755191.1721262031328',\n",
    "    '_cs_s': '60.0.0.1687431316848',\n",
    "}\n",
    "\n",
    "headers = {\n",
    "    'authority': 'www.asos.com',\n",
    "    'accept': 'application/json, text/plain, */*',\n",
    "    'accept-language': 'en-US,en;q=0.9',\n",
    "    'asos-c-name': '@asosteam/asos-web-product-listing-page',\n",
    "    'asos-c-plat': 'web',\n",
    "    'asos-c-ver': '1.2.0-3fbc76035c2b-9326',\n",
    "    'asos-cid': '626e3579-6c48-4ac5-9dc5-f9a3128128c5',\n",
    "    'cache-control': 'no-cache',\n",
    "    # 'cookie': 'featuresId=07adb4e3-0c27-4fff-840c-7c06a3bb1bdf; _gcl_au=1.1.799408543.1687098031; bt_stdstatus=NOTSTUDENT; _cs_c=0; stc-welcome-message=cappedPageCount=2&resolvedDeliveryCountry=IL; geocountry=IL; AMCVS_C0137F6A52DEAFCC0A490D4C%40AdobeOrg=1; asos-perx=3d1f53e3367749eb878b3654894ca360||bde5c75efc954fd2940c0623820f357f; s_cc=true; browseCountry=IL; browseCurrency=ILS; browseLanguage=en-GB; browseSizeSchema=EU; storeCode=ROW; currency=10046; asosAffiliate=affiliateId=10700; _gcl_aw=GCL.1687356185.CjwKCAjwv8qkBhAnEiwAkY-aht0lBZKE6x1xcNVhC65QHmtMYp0VtAlznDgz3anXlFkBNzqblDyNMxoCjJEQAvD_BwE; _gcl_dc=GCL.1687356185.CjwKCAjwv8qkBhAnEiwAkY-aht0lBZKE6x1xcNVhC65QHmtMYp0VtAlznDgz3anXlFkBNzqblDyNMxoCjJEQAvD_BwE; bt_gclid=CjwKCAjwv8qkBhAnEiwAkY-aht0lBZKE6x1xcNVhC65QHmtMYp0VtAlznDgz3anXlFkBNzqblDyNMxoCjJEQAvD_BwE; bt_affid=10700; floor=1000; asos=PreferredSite=&currencyid=10046&currencylabel=ILS&topcatid=1000&customerid=-1&customerguid=3d1f53e3367749eb878b3654894ca360; ak_bmsc=77EA5DDBB71F87604420FDD026A3B5A3~000000000000000000000000000000~YAAQl/8SAiLVw9yIAQAA3F6P4hRqzw7vPn6skKB36tmCuroefMVoqnCtKyvvTc9txQ1lnpMM8s21mT+z7hcQ2doTdmnpak5sQVFHW2w55l52xc7eLW750kKpsoWq+h6CpjzmHOV9s+PKncyzfaFurfpqFCphZFVxoiT+wvRHdebmQv7+ldywCq6hjE9wtuQUeFvrYZku5Nep7M0lyCDgdKa/9GpsVE63SuFInRqw9evERLNwayTEYbI0DH9MvQz/BcvBIUEHwh4/A83e48F/e4Dz3A+U7EsWcj57VAgogVl4WZXT1JsDCunKosbxp70kcT9C3UeLRz8frbETtqclBeUZN63AGoq784wGOrpbzsDnOkcLkIgf+WAtsPg9FElOhzm9BgzE6rNNUqvOfsYuX4ImbLF5TXTjK03eDx0iFMqsLQ==; bm_sz=DB836EC0E2FD66F47FAF96B069D4C1A8~YAAQl/8SAiPVw9yIAQAA3F6P4hQzLCvKJdcJyd/Sn816fONLVkHV7U1Y7MAK1JQGgt6B5fRJnIzaCoOkv/YeKBRouaU7LwFWSLdJ1fqfgHYG/yg2lk8DOti/1sWPJFtNd35tcjYaxW97Pp19Sv2u9jDTs2RXizFq6RI6b+1sXpcaeiOo/L3l/jVd4viisi29tVyDwl7zTqoaXljH88KJjIaL/KhpYq9mRAI/SBuDg3UsKWDziVDoBwqc6nh+hR2ewJ4a5rPGfy0TXoA9AOho3yHhdBMOrrSVyH2lA1G+Xv21~3553091~3621175; _s_fpv=true; _cs_mk_aa=0.8598014315457732_1687428231478; plp_columsCount=threeColumns; AMCV_C0137F6A52DEAFCC0A490D4C%40AdobeOrg=-1303530583%7CMCMID%7C25193479769954055961606549063999944440%7CMCAID%7CNONE%7CMCOPTOUT-1687436111s%7CNONE%7CvVersion%7C3.3.0; siteChromeVersion=au=12&com=12&de=12&dk=12&es=12&fr=12&it=12&nl=12&pl=12&roe=12&row=12&ru=12&se=12&us=12; keyStoreDataversion=ornjx7v-36; asos-b-sdv629=ornjx7v-36; bm_mi=948DDEA5318641FE55D9D95C0D497A92~YAAQvGndWIoOsd6IAQAAQNuZ4hTuvSAZHaImujW0wCGeFCUgqTW1VhdGIdqyoke6ESzod98XVTQyOK7nJr3iMRHD+PdqUVL/V1/ayCxjIOJgy/JbWU4bjWB/oOP4h0jNWqqc/3XtR02pUPIzzaT7gQwOPqOf17n/JZzShpvhzalLLLvESTuXvJwV9u1MqfA627pikq2f/j6KkqzxQ4p3uFe5Umn9xlu1i8CuVUqZ77DUulw8IUBEdVyVnDijFbByhXdyba81lykgvCpcOK/9ncB8aH8wyv/JGx2B3x18q3oTvbWVekR5RhlfxlRAU5DiOz9nkpPEV7uwOFpnHy4YYuVRkUVOz3sR~1; bm_sv=2A2A0BDA80053127E6B687116A2B57F6~YAAQvGndWBoPsd6IAQAAau2Z4hQE0JZNkg2ukuHPPhiZuKwg6vGc/ZbD2DcWXixUVsVn8Yh27LZKX+T7uQcSYgdBpheuQ5vQxN+vU0bJuRrBnjjIhG92divTFg01A/FXkdGKySERV95PTH2lTVRxZEZvwX1EFXa6unpOk1PsVQB22LwDVMXxNbbhWH9PtX2whan0H/aWtmlC0O4n5sIHenkIlH9SSnIMG14nCvfHiL9RNuExJFYJewUrAXtfFQ==~1; _abck=D5E63C3455B523AD3A975BB29DE0BCF5~0~YAAQvGndWGMPsd6IAQAAV/OZ4grl8VJU2VjVNCT8b9viVwsRubON0qTP/FngxArrbUqWpdHfSqkRfoc2zhIrm11sHgICZR5lEYVmZykFBh5qQVeu+4K6pLM/GU7qe/zbXeVwCOT0bxXQFMDHBSPTWEkIaWHaZuY6NSedMPdrj7nHAzYeiIdNzXlgWcnoTBXTddNtq8fSU0iKAyGGCqsRVsOrzK3zSENxam4BPTSk/Pg9nGlUMf5OUP3FUG5mFwYX22lFxl3CjEm9uKU67P/A7SixWSIizOK7Rx+wNGNBb8U27zQOQKbHpCAui1Uy6mIudjipN2lg437HQAUwWXSukuCNwpN4qvR1dHzPeqNafJgnENjDw6TJPjRGEXn2GHWCYx+pqTdE60aI2sUQRj6idTZwMLkUkQ==~-1~-1~1687432487; OptanonConsent=isGpcEnabled=0&datestamp=Thu+Jun+22+2023+13%3A15%3A21+GMT%2B0300+(Israel+Daylight+Time)&version=202301.2.0&isIABGlobal=false&hosts=&landingPath=https%3A%2F%2Fwww.asos.com%2Fsearch%2F%3Fq%3Dshirt%26currentpricerange%3D30-1985&groups=C0001%3A1%2CC0003%3A1%2CC0004%3A1; s_pers=%20s_vnum%3D1688158800647%2526vn%253D9%7C1688158800647%3B%20gpv_p6%3D%2520%7C1687430713084%3B%20gpv_eVar230%3Dno%2520value%7C1687430713092%3B%20gpv_eVar234%3Dno%2520value%7C1687430713110%3B%20s_nr%3D1687429428613-Repeat%7C1718965428613%3B%20gpv_e47%3Dsearch%257Call%7C1687431228614%3B%20gpv_p10%3Dmobile%2520row%257Csearch%2520page%257Csuccessful%2520search%7C1687431228617%3B%20gpv_e231%3D607446b1-2178-4240-8046-9f35a217709c%7C1687431293571%3B%20eVar225%3D57%7C1687431293590%3B%20s_invisit%3Dtrue%7C1687431293591%3B%20visitCount%3D9%7C1687431293595%3B; s_sq=%5B%5BB%5D%5D; _cs_id=d5623ad9-8442-af5a-c0fb-db4e0e05bb5f.1687098031.9.1687429516.1687426724.1628755191.1721262031328; _cs_s=60.0.0.1687431316848',\n",
    "    'pragma': 'no-cache',\n",
    "    'referer': 'https://www.asos.com/search/?q=Wide-brimmed%20hats&currentpricerange=35-165&refine=base_colour:4,5',\n",
    "    'sec-ch-ua': '\"Not.A/Brand\";v=\"8\", \"Chromium\";v=\"114\", \"Google Chrome\";v=\"114\"',\n",
    "    'sec-ch-ua-mobile': '?1',\n",
    "    'sec-ch-ua-platform': '\"Android\"',\n",
    "    'sec-fetch-dest': 'empty',\n",
    "    'sec-fetch-mode': 'cors',\n",
    "    'sec-fetch-site': 'same-origin',\n",
    "    'user-agent': 'Mozilla/5.0 (Linux; Android 6.0; Nexus 5 Build/MRA58N) AppleWebKit/537.36 (KHTML, like Gecko) Chrome/114.0.0.0 Mobile Safari/537.36',\n",
    "}\n",
    "\n",
    "params = {\n",
    "    'offset': '0',\n",
    "    'q': f'{product_name}',\n",
    "    'store': 'ROW',\n",
    "    'lang': 'en-GB',\n",
    "    'currency': 'ILS',\n",
    "    'rowlength': '3',\n",
    "    'channel': 'desktop-web',\n",
    "    'country': 'IL',\n",
    "    'keyStoreDataversion': 'ornjx7v-36',\n",
    "    'limit': '72',\n",
    "    'base_colour': '7,11',\n",
    "    'floor': f'100{gender}',\n",
    "\n",
    "}\n",
    "\n",
    "response = requests.get('https://www.asos.com/api/product/search/v2/', params=params, cookies=cookies, headers=headers)"
   ]
  },
  {
   "cell_type": "code",
   "execution_count": 14,
   "metadata": {},
   "outputs": [
    {
     "data": {
      "text/plain": [
       "{'searchTerm': 'Fedora hats',\n",
       " 'categoryName': None,\n",
       " 'itemCount': 0,\n",
       " 'redirectUrl': 'https://www.asos.com/discover/no-results-page/?WT.oss=Fedora+hats',\n",
       " 'products': [],\n",
       " 'facets': [],\n",
       " 'diagnostics': {'requestId': None,\n",
       "  'processingTime': 556,\n",
       "  'queryTime': -1,\n",
       "  'recommendationsEnabled': False,\n",
       "  'recommendationsAnalytics': {'personalisationStatus': 5,\n",
       "   'numberOfItems': 0,\n",
       "   'numberOfRecs': 0,\n",
       "   'personalisationType': '',\n",
       "   'experimentTrackerkey': '',\n",
       "   'items': []},\n",
       "  'advertisementsEnabled': True,\n",
       "  'advertisementsAnalytics': {'status': 10,\n",
       "   'customerOptIn': False,\n",
       "   'numberOfItemsFromPartner': 0,\n",
       "   'items': [],\n",
       "   'itemsFromPartner': [],\n",
       "   'placementBeacons': {'onLoadBeacon': None, 'onViewBeacon': None}}},\n",
       " 'searchPassMeta': {'isPartial': False,\n",
       "  'isSpellcheck': False,\n",
       "  'searchPass': [],\n",
       "  'alternateSearchTerms': []},\n",
       " 'queryId': None,\n",
       " 'discoverSearchProductTypes': [],\n",
       " 'campaigns': {'imageTiles': [], 'promoBanners': [], 'sponsoredProducts': []}}"
      ]
     },
     "execution_count": 14,
     "metadata": {},
     "output_type": "execute_result"
    }
   ],
   "source": [
    "response.json()"
   ]
  },
  {
   "attachments": {},
   "cell_type": "markdown",
   "metadata": {},
   "source": [
    "pants get request"
   ]
  },
  {
   "cell_type": "code",
   "execution_count": 6,
   "metadata": {},
   "outputs": [],
   "source": [
    "cookies = {\n",
    "    'featuresId': '07adb4e3-0c27-4fff-840c-7c06a3bb1bdf',\n",
    "    '_gcl_au': '1.1.799408543.1687098031',\n",
    "    'bt_stdstatus': 'NOTSTUDENT',\n",
    "    '_cs_c': '0',\n",
    "    'stc-welcome-message': 'cappedPageCount=2&resolvedDeliveryCountry=IL',\n",
    "    'geocountry': 'IL',\n",
    "    'AMCVS_C0137F6A52DEAFCC0A490D4C%40AdobeOrg': '1',\n",
    "    'asos-perx': '3d1f53e3367749eb878b3654894ca360||bde5c75efc954fd2940c0623820f357f',\n",
    "    's_cc': 'true',\n",
    "    'browseCountry': 'IL',\n",
    "    'browseCurrency': 'ILS',\n",
    "    'browseLanguage': 'en-GB',\n",
    "    'browseSizeSchema': 'EU',\n",
    "    'storeCode': 'ROW',\n",
    "    'currency': '10046',\n",
    "    'asosAffiliate': 'affiliateId=10700',\n",
    "    '_gcl_aw': 'GCL.1687356185.CjwKCAjwv8qkBhAnEiwAkY-aht0lBZKE6x1xcNVhC65QHmtMYp0VtAlznDgz3anXlFkBNzqblDyNMxoCjJEQAvD_BwE',\n",
    "    '_gcl_dc': 'GCL.1687356185.CjwKCAjwv8qkBhAnEiwAkY-aht0lBZKE6x1xcNVhC65QHmtMYp0VtAlznDgz3anXlFkBNzqblDyNMxoCjJEQAvD_BwE',\n",
    "    'bt_gclid': 'CjwKCAjwv8qkBhAnEiwAkY-aht0lBZKE6x1xcNVhC65QHmtMYp0VtAlznDgz3anXlFkBNzqblDyNMxoCjJEQAvD_BwE',\n",
    "    'bt_affid': '10700',\n",
    "    'floor': '1000',\n",
    "    'asos': 'PreferredSite=&currencyid=10046&currencylabel=ILS&topcatid=1000&customerid=-1&customerguid=3d1f53e3367749eb878b3654894ca360',\n",
    "    'bm_sz': 'DB836EC0E2FD66F47FAF96B069D4C1A8~YAAQl/8SAiPVw9yIAQAA3F6P4hQzLCvKJdcJyd/Sn816fONLVkHV7U1Y7MAK1JQGgt6B5fRJnIzaCoOkv/YeKBRouaU7LwFWSLdJ1fqfgHYG/yg2lk8DOti/1sWPJFtNd35tcjYaxW97Pp19Sv2u9jDTs2RXizFq6RI6b+1sXpcaeiOo/L3l/jVd4viisi29tVyDwl7zTqoaXljH88KJjIaL/KhpYq9mRAI/SBuDg3UsKWDziVDoBwqc6nh+hR2ewJ4a5rPGfy0TXoA9AOho3yHhdBMOrrSVyH2lA1G+Xv21~3553091~3621175',\n",
    "    '_s_fpv': 'true',\n",
    "    'AMCV_C0137F6A52DEAFCC0A490D4C%40AdobeOrg': '-1303530583%7CMCMID%7C25193479769954055961606549063999944440%7CMCAID%7CNONE%7CMCOPTOUT-1687436111s%7CNONE%7CvVersion%7C3.3.0',\n",
    "    'siteChromeVersion': 'au=12&com=12&de=12&dk=12&es=12&fr=12&it=12&nl=12&pl=12&roe=12&row=12&ru=12&se=12&us=12',\n",
    "    'keyStoreDataversion': 'ornjx7v-36',\n",
    "    'asos-b-sdv629': 'ornjx7v-36',\n",
    "    '_abck': 'D5E63C3455B523AD3A975BB29DE0BCF5~0~YAAQvGndWGMPsd6IAQAAV/OZ4grl8VJU2VjVNCT8b9viVwsRubON0qTP/FngxArrbUqWpdHfSqkRfoc2zhIrm11sHgICZR5lEYVmZykFBh5qQVeu+4K6pLM/GU7qe/zbXeVwCOT0bxXQFMDHBSPTWEkIaWHaZuY6NSedMPdrj7nHAzYeiIdNzXlgWcnoTBXTddNtq8fSU0iKAyGGCqsRVsOrzK3zSENxam4BPTSk/Pg9nGlUMf5OUP3FUG5mFwYX22lFxl3CjEm9uKU67P/A7SixWSIizOK7Rx+wNGNBb8U27zQOQKbHpCAui1Uy6mIudjipN2lg437HQAUwWXSukuCNwpN4qvR1dHzPeqNafJgnENjDw6TJPjRGEXn2GHWCYx+pqTdE60aI2sUQRj6idTZwMLkUkQ==~-1~-1~1687432487',\n",
    "    'plp_columsCount': 'fourColumns',\n",
    "    '_cs_mk_aa': '0.15710830176020107_1687430035789',\n",
    "    'ak_bmsc': '77EA5DDBB71F87604420FDD026A3B5A3~000000000000000000000000000000~YAAQb58XAue4fL2IAQAAMp2t4hSIPwWB6LpTfPC1fvG3fT9g7w3tkMuzfCqUUJ1IRrT74JCSWYt5kdq4ttjvZQxmnd2uQ5DyVh4OQuvt4hTH7hKyq+uzpQ+IjaH+g1iFry4qfSMrRPFjZnxRkpP63pd2bpg4cxcgeiA3w/39+/k84JFGCugLv2MHFpHOgwLjFkAOLKt2lTAIXAX2VX132GV41iaV6N5X7kWTiNSwxGJDncxNGoayxv42PAUWjG8M/y31Kvtj8mOO9L9+Jhq4S0XeOH/YC7jhwCrFj4sRqLAkOvgOho6/ffbYe6VfuwZ3w0lpc2KdVHzRV4AP4ahkctL/CoaEjuYa3KRoj2cTx0A+ufTovsvKN/cnZtFt8MGyVTBF3JV8h1PD6hEd0Qx/8x1sch0C',\n",
    "    'bm_mi': '948DDEA5318641FE55D9D95C0D497A92~YAAQb58XAna6fL2IAQAA9Hyu4hTxyxYkJk7NejNg/risKRmIEccNK8Ci7d/uc5DHa2vTfSHyMRlEC1Cmjuic0zzek7AzfGNGwdISh7vADs8Al/5K+rBmAbohPuytVQOLKrEzT+G7p+IYKzRYP31XBbKwtRmzlH1LMYVVYOwl084c5tc+enqKUJAhRFogaWz68aaWRT4Tc3qk0iPUBgTiTQCmjcaP8bf3r+WYaMKlRoa6sPeslXLWgkmWuBuKU5PhTfpmpCNi4BOpmypcUsMEOXxWmFBeYf+/NjFpLHDXLweiW9jmWFw8eytGdexf2W6kDOXaVDo6QSwWVUy1WM9ntVqLUm9Fbl/V~1',\n",
    "    'bm_sv': '2A2A0BDA80053127E6B687116A2B57F6~YAAQb58XAtq6fL2IAQAAYaiu4hQiAE/PKtteobCfKPHM9EXp/V8DvFeQ+h5ZeoT+w5k0a44YZs+1ykoke8ibSTxH/AKsNG01kfWOO43gk9ylNfqO5tWV0SbpAdBm2tYF0taQj0iYcfUTM8FqR489e+33vS6inBWDzRXy/XtfT+H36LIiHp3l4RRDclkYFZghnkkbxgrEO0zMT79q3hPdygsZgX668eX0lMjuhWi9xYg32w4+P9yMS0kpUyRfOg==~1',\n",
    "    'OptanonConsent': 'isGpcEnabled=0&datestamp=Thu+Jun+22+2023+13%3A37%3A58+GMT%2B0300+(Israel+Daylight+Time)&version=202301.2.0&isIABGlobal=false&hosts=&landingPath=https%3A%2F%2Fwww.asos.com%2Fsearch%2F%3Fq%3Dleather+pants&groups=C0001%3A1%2CC0003%3A1%2CC0004%3A1',\n",
    "    's_pers': '%20s_vnum%3D1688158800647%2526vn%253D9%7C1688158800647%3B%20gpv_eVar230%3Dno%2520value%7C1687430713092%3B%20gpv_eVar234%3Dno%2520value%7C1687430713110%3B%20gpv_p6%3D%2520%7C1687432066125%3B%20s_nr%3D1687430278245-Repeat%7C1718966278245%3B%20gpv_e47%3Dno%2520value%7C1687432078246%3B%20gpv_p10%3Ddesktop%2520row%257Csearch%2520page%257Csuccessful%2520search%7C1687432078248%3B%20gpv_e231%3D447843fb-1765-4227-9052-bc0e552ad8fb%7C1687432140197%3B%20eVar225%3D73%7C1687432140211%3B%20s_invisit%3Dtrue%7C1687432140215%3B%20visitCount%3D9%7C1687432140216%3B',\n",
    "    's_sq': '%5B%5BB%5D%5D',\n",
    "    '_cs_id': 'd5623ad9-8442-af5a-c0fb-db4e0e05bb5f.1687098031.9.1687430344.1687426724.1628755191.1721262031328',\n",
    "    '_cs_s': '75.0.0.1687432144536',\n",
    "}\n",
    "\n",
    "headers = {\n",
    "    'authority': 'www.asos.com',\n",
    "    'accept': 'application/json, text/plain, */*',\n",
    "    'accept-language': 'en-US,en;q=0.9',\n",
    "    'asos-c-name': '@asosteam/asos-web-product-listing-page',\n",
    "    'asos-c-plat': 'web',\n",
    "    'asos-c-ver': '1.2.0-3fbc76035c2b-9326',\n",
    "    'asos-cid': '989444f0-67aa-42e2-81c3-bbda45273a5b',\n",
    "    'cache-control': 'no-cache',\n",
    "    # 'cookie': 'featuresId=07adb4e3-0c27-4fff-840c-7c06a3bb1bdf; _gcl_au=1.1.799408543.1687098031; bt_stdstatus=NOTSTUDENT; _cs_c=0; stc-welcome-message=cappedPageCount=2&resolvedDeliveryCountry=IL; geocountry=IL; AMCVS_C0137F6A52DEAFCC0A490D4C%40AdobeOrg=1; asos-perx=3d1f53e3367749eb878b3654894ca360||bde5c75efc954fd2940c0623820f357f; s_cc=true; browseCountry=IL; browseCurrency=ILS; browseLanguage=en-GB; browseSizeSchema=EU; storeCode=ROW; currency=10046; asosAffiliate=affiliateId=10700; _gcl_aw=GCL.1687356185.CjwKCAjwv8qkBhAnEiwAkY-aht0lBZKE6x1xcNVhC65QHmtMYp0VtAlznDgz3anXlFkBNzqblDyNMxoCjJEQAvD_BwE; _gcl_dc=GCL.1687356185.CjwKCAjwv8qkBhAnEiwAkY-aht0lBZKE6x1xcNVhC65QHmtMYp0VtAlznDgz3anXlFkBNzqblDyNMxoCjJEQAvD_BwE; bt_gclid=CjwKCAjwv8qkBhAnEiwAkY-aht0lBZKE6x1xcNVhC65QHmtMYp0VtAlznDgz3anXlFkBNzqblDyNMxoCjJEQAvD_BwE; bt_affid=10700; floor=1000; asos=PreferredSite=&currencyid=10046&currencylabel=ILS&topcatid=1000&customerid=-1&customerguid=3d1f53e3367749eb878b3654894ca360; bm_sz=DB836EC0E2FD66F47FAF96B069D4C1A8~YAAQl/8SAiPVw9yIAQAA3F6P4hQzLCvKJdcJyd/Sn816fONLVkHV7U1Y7MAK1JQGgt6B5fRJnIzaCoOkv/YeKBRouaU7LwFWSLdJ1fqfgHYG/yg2lk8DOti/1sWPJFtNd35tcjYaxW97Pp19Sv2u9jDTs2RXizFq6RI6b+1sXpcaeiOo/L3l/jVd4viisi29tVyDwl7zTqoaXljH88KJjIaL/KhpYq9mRAI/SBuDg3UsKWDziVDoBwqc6nh+hR2ewJ4a5rPGfy0TXoA9AOho3yHhdBMOrrSVyH2lA1G+Xv21~3553091~3621175; _s_fpv=true; AMCV_C0137F6A52DEAFCC0A490D4C%40AdobeOrg=-1303530583%7CMCMID%7C25193479769954055961606549063999944440%7CMCAID%7CNONE%7CMCOPTOUT-1687436111s%7CNONE%7CvVersion%7C3.3.0; siteChromeVersion=au=12&com=12&de=12&dk=12&es=12&fr=12&it=12&nl=12&pl=12&roe=12&row=12&ru=12&se=12&us=12; keyStoreDataversion=ornjx7v-36; asos-b-sdv629=ornjx7v-36; _abck=D5E63C3455B523AD3A975BB29DE0BCF5~0~YAAQvGndWGMPsd6IAQAAV/OZ4grl8VJU2VjVNCT8b9viVwsRubON0qTP/FngxArrbUqWpdHfSqkRfoc2zhIrm11sHgICZR5lEYVmZykFBh5qQVeu+4K6pLM/GU7qe/zbXeVwCOT0bxXQFMDHBSPTWEkIaWHaZuY6NSedMPdrj7nHAzYeiIdNzXlgWcnoTBXTddNtq8fSU0iKAyGGCqsRVsOrzK3zSENxam4BPTSk/Pg9nGlUMf5OUP3FUG5mFwYX22lFxl3CjEm9uKU67P/A7SixWSIizOK7Rx+wNGNBb8U27zQOQKbHpCAui1Uy6mIudjipN2lg437HQAUwWXSukuCNwpN4qvR1dHzPeqNafJgnENjDw6TJPjRGEXn2GHWCYx+pqTdE60aI2sUQRj6idTZwMLkUkQ==~-1~-1~1687432487; plp_columsCount=fourColumns; _cs_mk_aa=0.15710830176020107_1687430035789; ak_bmsc=77EA5DDBB71F87604420FDD026A3B5A3~000000000000000000000000000000~YAAQb58XAue4fL2IAQAAMp2t4hSIPwWB6LpTfPC1fvG3fT9g7w3tkMuzfCqUUJ1IRrT74JCSWYt5kdq4ttjvZQxmnd2uQ5DyVh4OQuvt4hTH7hKyq+uzpQ+IjaH+g1iFry4qfSMrRPFjZnxRkpP63pd2bpg4cxcgeiA3w/39+/k84JFGCugLv2MHFpHOgwLjFkAOLKt2lTAIXAX2VX132GV41iaV6N5X7kWTiNSwxGJDncxNGoayxv42PAUWjG8M/y31Kvtj8mOO9L9+Jhq4S0XeOH/YC7jhwCrFj4sRqLAkOvgOho6/ffbYe6VfuwZ3w0lpc2KdVHzRV4AP4ahkctL/CoaEjuYa3KRoj2cTx0A+ufTovsvKN/cnZtFt8MGyVTBF3JV8h1PD6hEd0Qx/8x1sch0C; bm_mi=948DDEA5318641FE55D9D95C0D497A92~YAAQb58XAna6fL2IAQAA9Hyu4hTxyxYkJk7NejNg/risKRmIEccNK8Ci7d/uc5DHa2vTfSHyMRlEC1Cmjuic0zzek7AzfGNGwdISh7vADs8Al/5K+rBmAbohPuytVQOLKrEzT+G7p+IYKzRYP31XBbKwtRmzlH1LMYVVYOwl084c5tc+enqKUJAhRFogaWz68aaWRT4Tc3qk0iPUBgTiTQCmjcaP8bf3r+WYaMKlRoa6sPeslXLWgkmWuBuKU5PhTfpmpCNi4BOpmypcUsMEOXxWmFBeYf+/NjFpLHDXLweiW9jmWFw8eytGdexf2W6kDOXaVDo6QSwWVUy1WM9ntVqLUm9Fbl/V~1; bm_sv=2A2A0BDA80053127E6B687116A2B57F6~YAAQb58XAtq6fL2IAQAAYaiu4hQiAE/PKtteobCfKPHM9EXp/V8DvFeQ+h5ZeoT+w5k0a44YZs+1ykoke8ibSTxH/AKsNG01kfWOO43gk9ylNfqO5tWV0SbpAdBm2tYF0taQj0iYcfUTM8FqR489e+33vS6inBWDzRXy/XtfT+H36LIiHp3l4RRDclkYFZghnkkbxgrEO0zMT79q3hPdygsZgX668eX0lMjuhWi9xYg32w4+P9yMS0kpUyRfOg==~1; OptanonConsent=isGpcEnabled=0&datestamp=Thu+Jun+22+2023+13%3A37%3A58+GMT%2B0300+(Israel+Daylight+Time)&version=202301.2.0&isIABGlobal=false&hosts=&landingPath=https%3A%2F%2Fwww.asos.com%2Fsearch%2F%3Fq%3Dleather+pants&groups=C0001%3A1%2CC0003%3A1%2CC0004%3A1; s_pers=%20s_vnum%3D1688158800647%2526vn%253D9%7C1688158800647%3B%20gpv_eVar230%3Dno%2520value%7C1687430713092%3B%20gpv_eVar234%3Dno%2520value%7C1687430713110%3B%20gpv_p6%3D%2520%7C1687432066125%3B%20s_nr%3D1687430278245-Repeat%7C1718966278245%3B%20gpv_e47%3Dno%2520value%7C1687432078246%3B%20gpv_p10%3Ddesktop%2520row%257Csearch%2520page%257Csuccessful%2520search%7C1687432078248%3B%20gpv_e231%3D447843fb-1765-4227-9052-bc0e552ad8fb%7C1687432140197%3B%20eVar225%3D73%7C1687432140211%3B%20s_invisit%3Dtrue%7C1687432140215%3B%20visitCount%3D9%7C1687432140216%3B; s_sq=%5B%5BB%5D%5D; _cs_id=d5623ad9-8442-af5a-c0fb-db4e0e05bb5f.1687098031.9.1687430344.1687426724.1628755191.1721262031328; _cs_s=75.0.0.1687432144536',\n",
    "    'pragma': 'no-cache',\n",
    "    'referer': 'https://www.asos.com/search/?q=leather%20pants&currentpricerange=30-1655&refine=base_colour:1,4,8|floor:1001',\n",
    "    'sec-ch-ua': '\"Not.A/Brand\";v=\"8\", \"Chromium\";v=\"114\", \"Google Chrome\";v=\"114\"',\n",
    "    'sec-ch-ua-mobile': '?1',\n",
    "    'sec-ch-ua-platform': '\"Android\"',\n",
    "    'sec-fetch-dest': 'empty',\n",
    "    'sec-fetch-mode': 'cors',\n",
    "    'sec-fetch-site': 'same-origin',\n",
    "    'user-agent': 'Mozilla/5.0 (Linux; Android 6.0; Nexus 5 Build/MRA58N) AppleWebKit/537.36 (KHTML, like Gecko) Chrome/114.0.0.0 Mobile Safari/537.36',\n",
    "}\n",
    "\n",
    "params = {\n",
    "    'offset': '1',\n",
    "    'q': 'Aviator sunglasses',\n",
    "    'tst-search-advertisements': 'true',\n",
    "    'store': 'ROW',\n",
    "    'lang': 'en-GB',\n",
    "    'currency': 'ILS',\n",
    "    'rowlength': '4',\n",
    "    'channel': 'desktop-web',\n",
    "    'country': 'IL',\n",
    "    'keyStoreDataversion': 'ornjx7v-36',\n",
    "    'limit': '72',\n",
    "    'base_colour': '1,4,8,12,5',\n",
    "    'floor': '1001',\n",
    "}\n",
    "\n",
    "response = requests.get('https://www.asos.com/api/product/search/v2/', params=params, cookies=cookies, headers=headers)"
   ]
  },
  {
   "cell_type": "code",
   "execution_count": 20,
   "metadata": {},
   "outputs": [
    {
     "name": "stdout",
     "output_type": "stream",
     "text": [
      "<class 'requests.models.Response'>\n"
     ]
    }
   ],
   "source": [
    "print(type(response))\n",
    "result_json = response.json()"
   ]
  },
  {
   "cell_type": "code",
   "execution_count": 32,
   "metadata": {},
   "outputs": [
    {
     "data": {
      "text/plain": [
       "dict_keys(['searchTerm', 'categoryName', 'itemCount', 'redirectUrl', 'products', 'facets', 'diagnostics', 'searchPassMeta', 'queryId', 'discoverSearchProductTypes', 'campaigns'])"
      ]
     },
     "execution_count": 32,
     "metadata": {},
     "output_type": "execute_result"
    }
   ],
   "source": [
    "result_json.keys()"
   ]
  },
  {
   "attachments": {},
   "cell_type": "markdown",
   "metadata": {},
   "source": [
    "find the needed data \n",
    "- name\n",
    "- brand\n",
    "- cur_price\n",
    "- image_url"
   ]
  },
  {
   "cell_type": "code",
   "execution_count": 27,
   "metadata": {},
   "outputs": [
    {
     "data": {
      "text/plain": [
       "35"
      ]
     },
     "execution_count": 27,
     "metadata": {},
     "output_type": "execute_result"
    }
   ],
   "source": [
    "result_items = result_json['products']\n",
    "product = len(result_items)\n",
    "product\n",
    "# product_name = product['name']\n",
    "# product_price = product['price']['current']\n",
    "# product_brand = product['brandName']\n",
    "# product_url = product['url']\n",
    "# product_img_url = product['imageUrl']\n",
    "# print(product['name'])\n",
    "# print(product['price']['current'])\n",
    "# print(product['brandName'])\n",
    "# print(product['url'])\n",
    "# print(product['imageUrl'])"
   ]
  }
 ],
 "metadata": {
  "kernelspec": {
   "display_name": "myenv2",
   "language": "python",
   "name": "python3"
  },
  "language_info": {
   "codemirror_mode": {
    "name": "ipython",
    "version": 3
   },
   "file_extension": ".py",
   "mimetype": "text/x-python",
   "name": "python",
   "nbconvert_exporter": "python",
   "pygments_lexer": "ipython3",
   "version": "3.9.0"
  },
  "orig_nbformat": 4
 },
 "nbformat": 4,
 "nbformat_minor": 2
}
